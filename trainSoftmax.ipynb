{
  "nbformat": 4,
  "nbformat_minor": 0,
  "metadata": {
    "colab": {
      "name": "trainSoftmax.ipynb",
      "provenance": [],
      "include_colab_link": true
    },
    "kernelspec": {
      "name": "python3",
      "display_name": "Python 3"
    },
    "accelerator": "GPU"
  },
  "cells": [
    {
      "cell_type": "markdown",
      "metadata": {
        "id": "view-in-github",
        "colab_type": "text"
      },
      "source": [
        "<a href=\"https://colab.research.google.com/github/koyomin9zx/CS331.K11-Flowers-Recognition/blob/master/trainSoftmax.ipynb\" target=\"_parent\"><img src=\"https://colab.research.google.com/assets/colab-badge.svg\" alt=\"Open In Colab\"/></a>"
      ]
    },
    {
      "cell_type": "code",
      "metadata": {
        "id": "mhKs-3EMUydu",
        "colab_type": "code",
        "colab": {
          "base_uri": "https://localhost:8080/",
          "height": 121
        },
        "outputId": "0280fcc0-26a1-4bd8-f9f6-9bd481a674b1"
      },
      "source": [
        "from google.colab import drive\n",
        "drive.mount('/content/drive')"
      ],
      "execution_count": 1,
      "outputs": [
        {
          "output_type": "stream",
          "text": [
            "Go to this URL in a browser: https://accounts.google.com/o/oauth2/auth?client_id=947318989803-6bn6qk8qdgf4n4g3pfee6491hc0brc4i.apps.googleusercontent.com&redirect_uri=urn%3aietf%3awg%3aoauth%3a2.0%3aoob&response_type=code&scope=email%20https%3a%2f%2fwww.googleapis.com%2fauth%2fdocs.test%20https%3a%2f%2fwww.googleapis.com%2fauth%2fdrive%20https%3a%2f%2fwww.googleapis.com%2fauth%2fdrive.photos.readonly%20https%3a%2f%2fwww.googleapis.com%2fauth%2fpeopleapi.readonly\n",
            "\n",
            "Enter your authorization code:\n",
            "··········\n",
            "Mounted at /content/drive\n"
          ],
          "name": "stdout"
        }
      ]
    },
    {
      "cell_type": "code",
      "metadata": {
        "id": "0Cm-QS4UVb-M",
        "colab_type": "code",
        "colab": {}
      },
      "source": [
        "!unzip /content/drive/'My Drive'/ML/dataset.zip\n",
        "!ln -s /content/drive/'My Drive'/ML/backup /content"
      ],
      "execution_count": 0,
      "outputs": []
    },
    {
      "cell_type": "code",
      "metadata": {
        "id": "1PkdyZ5jVmbP",
        "colab_type": "code",
        "colab": {}
      },
      "source": [
        "# Thêm thư viện\n",
        "from sklearn.linear_model import LogisticRegression\n",
        "from sklearn.model_selection import GridSearchCV\n",
        "from sklearn.metrics import classification_report,confusion_matrix\n",
        "from imutils import paths\n",
        "from keras.applications import VGG16\n",
        "from keras.applications import imagenet_utils\n",
        "from keras.preprocessing.image import img_to_array\n",
        "from keras.preprocessing.image import load_img\n",
        "from sklearn.preprocessing import LabelBinarizer\n",
        "from keras import models\n",
        "from keras import layers\n",
        "from keras import optimizers\n",
        "from sklearn.preprocessing import LabelEncoder\n",
        "from sklearn.model_selection import train_test_split\n",
        "import numpy as np\n",
        "import random\n",
        "import os\n",
        "import pandas as pd\n",
        "import matplotlib.pyplot as plt\n",
        "from sklearn.svm import SVC\n",
        "from sklearn.externals import joblib\n",
        "import cv2"
      ],
      "execution_count": 0,
      "outputs": []
    },
    {
      "cell_type": "code",
      "metadata": {
        "id": "ToIMir_5VpTL",
        "colab_type": "code",
        "colab": {}
      },
      "source": [
        "# Lấy các đường dẫn đến ảnh.\n",
        "image_path = list(paths.list_images('dataset/'))\n",
        "\n",
        "# Đổi vị trí ngẫu nhiên các đường dẫn ảnh\n",
        "random.shuffle(image_path)"
      ],
      "execution_count": 0,
      "outputs": []
    },
    {
      "cell_type": "code",
      "metadata": {
        "id": "M74-zSKvVssk",
        "colab_type": "code",
        "colab": {}
      },
      "source": [
        "# Đường dẫn ảnh sẽ là dataset/tên_loài_hoa/tên_ảnh ví dụ dataset/Bluebell/image_0241.jpg nên p.split(os.path.sep)[-2] sẽ lấy ra được tên loài hoa\n",
        "labels = [p.split(os.path.sep)[-2] for p in image_path]\n",
        "\n",
        "# Chuyển tên các loài hoa thành số\n",
        "le = LabelEncoder()\n",
        "labels = le.fit_transform(labels)\n",
        "\n",
        "lb = LabelBinarizer()\n",
        "labels = lb.fit_transform(labels)"
      ],
      "execution_count": 0,
      "outputs": []
    },
    {
      "cell_type": "code",
      "metadata": {
        "id": "xuXXCl5NVxkj",
        "colab_type": "code",
        "colab": {}
      },
      "source": [
        "# Load model VGG 16 của ImageNet dataset, include_top=False để bỏ phần Fully connected layer ở cuối.\n",
        "model = VGG16(weights='imagenet', include_top=False)"
      ],
      "execution_count": 0,
      "outputs": []
    },
    {
      "cell_type": "code",
      "metadata": {
        "id": "knYHic3LV4Ac",
        "colab_type": "code",
        "colab": {}
      },
      "source": [
        "# Load ảnh và resize về đúng kích thước mà VGG 16 cần là (224,224)\n",
        "list_image = []\n",
        "for (j, imagePath) in enumerate(image_path):\n",
        "    image = load_img(imagePath, target_size=(224, 224))\n",
        "    image = img_to_array(image)\n",
        "    \n",
        "    image = np.expand_dims(image, 0)\n",
        "    image = imagenet_utils.preprocess_input(image)\n",
        "    \n",
        "    list_image.append(image)\n",
        "    \n",
        "list_image = np.vstack(list_image)"
      ],
      "execution_count": 0,
      "outputs": []
    },
    {
      "cell_type": "code",
      "metadata": {
        "id": "mY52EewVaEH5",
        "colab_type": "code",
        "colab": {}
      },
      "source": [
        "# Dùng pre-trained model để lấy ra các feature của ảnh\n",
        "features = model.predict(list_image)\n",
        "\n",
        "# Giống bước flatten trong CNN, chuyển từ tensor 3 chiều sau ConvNet sang vector 1 chiều\n",
        "features = features.reshape((features.shape[0], 512*7*7))"
      ],
      "execution_count": 0,
      "outputs": []
    },
    {
      "cell_type": "code",
      "metadata": {
        "id": "QH854XimaSXt",
        "colab_type": "code",
        "colab": {}
      },
      "source": [
        "# Chia traing set, test set tỉ lệ 80-20\n",
        "X_train, X_test, y_train, y_test = train_test_split(features, labels, test_size=0.2, random_state=42)"
      ],
      "execution_count": 0,
      "outputs": []
    },
    {
      "cell_type": "code",
      "metadata": {
        "id": "30HZG2HZaU0M",
        "colab_type": "code",
        "colab": {}
      },
      "source": [
        "model1 = models.Sequential()\n",
        "model1.add(layers.Dense(5, activation='softmax'))\n",
        "\n",
        "model1.compile(loss='categorical_crossentropy',\n",
        "              optimizer='adam',\n",
        "              metrics=['accuracy'])\n"
      ],
      "execution_count": 0,
      "outputs": []
    },
    {
      "cell_type": "code",
      "metadata": {
        "id": "g-LETyq1dxIq",
        "colab_type": "code",
        "colab": {
          "base_uri": "https://localhost:8080/",
          "height": 1000
        },
        "outputId": "822d137f-5113-45d8-f737-5107660ca76a"
      },
      "source": [
        "history = model1.fit(X_train, y_train,epochs=100)"
      ],
      "execution_count": 85,
      "outputs": [
        {
          "output_type": "stream",
          "text": [
            "Epoch 1/100\n",
            "3458/3458 [==============================] - 1s 147us/step - loss: 0.6848 - acc: 0.9560\n",
            "Epoch 2/100\n",
            "3458/3458 [==============================] - 0s 144us/step - loss: 0.6695 - acc: 0.9575\n",
            "Epoch 3/100\n",
            "3458/3458 [==============================] - 1s 147us/step - loss: 0.6867 - acc: 0.9566\n",
            "Epoch 4/100\n",
            "3458/3458 [==============================] - 1s 148us/step - loss: 0.6849 - acc: 0.9569\n",
            "Epoch 5/100\n",
            "3458/3458 [==============================] - 0s 141us/step - loss: 0.7891 - acc: 0.9488\n",
            "Epoch 6/100\n",
            "3458/3458 [==============================] - 0s 138us/step - loss: 0.9149 - acc: 0.9404\n",
            "Epoch 7/100\n",
            "3458/3458 [==============================] - 0s 141us/step - loss: 0.7211 - acc: 0.9517\n",
            "Epoch 8/100\n",
            "3458/3458 [==============================] - 1s 152us/step - loss: 0.6778 - acc: 0.9563\n",
            "Epoch 9/100\n",
            "3458/3458 [==============================] - 0s 142us/step - loss: 0.6628 - acc: 0.9558\n",
            "Epoch 10/100\n",
            "3458/3458 [==============================] - 0s 139us/step - loss: 0.6229 - acc: 0.9598\n",
            "Epoch 11/100\n",
            "3458/3458 [==============================] - 1s 147us/step - loss: 0.5629 - acc: 0.9636\n",
            "Epoch 12/100\n",
            "3458/3458 [==============================] - 0s 141us/step - loss: 0.6683 - acc: 0.9566\n",
            "Epoch 13/100\n",
            "3458/3458 [==============================] - 0s 142us/step - loss: 0.5911 - acc: 0.9627\n",
            "Epoch 14/100\n",
            "3458/3458 [==============================] - 0s 142us/step - loss: 0.5478 - acc: 0.9633\n",
            "Epoch 15/100\n",
            "3458/3458 [==============================] - 1s 145us/step - loss: 0.5633 - acc: 0.9636\n",
            "Epoch 16/100\n",
            "3458/3458 [==============================] - 0s 143us/step - loss: 0.5691 - acc: 0.9633\n",
            "Epoch 17/100\n",
            "3458/3458 [==============================] - 0s 137us/step - loss: 0.5193 - acc: 0.9659\n",
            "Epoch 18/100\n",
            "3458/3458 [==============================] - 0s 139us/step - loss: 0.5186 - acc: 0.9670\n",
            "Epoch 19/100\n",
            "3458/3458 [==============================] - 1s 155us/step - loss: 0.5278 - acc: 0.9662\n",
            "Epoch 20/100\n",
            "3458/3458 [==============================] - 1s 151us/step - loss: 0.5041 - acc: 0.9676\n",
            "Epoch 21/100\n",
            "3458/3458 [==============================] - 0s 142us/step - loss: 0.5386 - acc: 0.9659\n",
            "Epoch 22/100\n",
            "3458/3458 [==============================] - 0s 141us/step - loss: 0.5439 - acc: 0.9647\n",
            "Epoch 23/100\n",
            "3458/3458 [==============================] - 0s 139us/step - loss: 0.4813 - acc: 0.9688\n",
            "Epoch 24/100\n",
            "3458/3458 [==============================] - 0s 142us/step - loss: 0.4960 - acc: 0.9685\n",
            "Epoch 25/100\n",
            "3458/3458 [==============================] - 0s 142us/step - loss: 0.5448 - acc: 0.9647\n",
            "Epoch 26/100\n",
            "3458/3458 [==============================] - 0s 144us/step - loss: 0.5173 - acc: 0.9665\n",
            "Epoch 27/100\n",
            "3458/3458 [==============================] - 0s 134us/step - loss: 0.5693 - acc: 0.9630\n",
            "Epoch 28/100\n",
            "3458/3458 [==============================] - 1s 146us/step - loss: 0.4923 - acc: 0.9679\n",
            "Epoch 29/100\n",
            "3458/3458 [==============================] - 0s 141us/step - loss: 0.4913 - acc: 0.9679\n",
            "Epoch 30/100\n",
            "3458/3458 [==============================] - 0s 138us/step - loss: 0.4936 - acc: 0.9685\n",
            "Epoch 31/100\n",
            "3458/3458 [==============================] - 0s 142us/step - loss: 0.4811 - acc: 0.9693\n",
            "Epoch 32/100\n",
            "3458/3458 [==============================] - 0s 143us/step - loss: 0.4540 - acc: 0.9717\n",
            "Epoch 33/100\n",
            "3458/3458 [==============================] - 0s 139us/step - loss: 0.4478 - acc: 0.9722\n",
            "Epoch 34/100\n",
            "3458/3458 [==============================] - 1s 148us/step - loss: 0.4413 - acc: 0.9725\n",
            "Epoch 35/100\n",
            "3458/3458 [==============================] - 0s 136us/step - loss: 0.4664 - acc: 0.9699\n",
            "Epoch 36/100\n",
            "3458/3458 [==============================] - 1s 149us/step - loss: 0.4447 - acc: 0.9711\n",
            "Epoch 37/100\n",
            "3458/3458 [==============================] - 1s 145us/step - loss: 0.4485 - acc: 0.9719\n",
            "Epoch 38/100\n",
            "3458/3458 [==============================] - 1s 150us/step - loss: 0.5107 - acc: 0.9679\n",
            "Epoch 39/100\n",
            "3458/3458 [==============================] - 0s 143us/step - loss: 0.5660 - acc: 0.9639\n",
            "Epoch 40/100\n",
            "3458/3458 [==============================] - 0s 139us/step - loss: 0.5240 - acc: 0.9670\n",
            "Epoch 41/100\n",
            "3458/3458 [==============================] - 0s 134us/step - loss: 0.4957 - acc: 0.9685\n",
            "Epoch 42/100\n",
            "3458/3458 [==============================] - 0s 136us/step - loss: 0.4648 - acc: 0.9702\n",
            "Epoch 43/100\n",
            "3458/3458 [==============================] - 1s 146us/step - loss: 0.4512 - acc: 0.9714\n",
            "Epoch 44/100\n",
            "3458/3458 [==============================] - 0s 136us/step - loss: 0.4661 - acc: 0.9702\n",
            "Epoch 45/100\n",
            "3458/3458 [==============================] - 0s 139us/step - loss: 0.5159 - acc: 0.9659\n",
            "Epoch 46/100\n",
            "3458/3458 [==============================] - 0s 124us/step - loss: 0.5234 - acc: 0.9665\n",
            "Epoch 47/100\n",
            "3458/3458 [==============================] - 0s 140us/step - loss: 0.4659 - acc: 0.9699\n",
            "Epoch 48/100\n",
            "3458/3458 [==============================] - 0s 133us/step - loss: 0.4810 - acc: 0.9685\n",
            "Epoch 49/100\n",
            "3458/3458 [==============================] - 0s 144us/step - loss: 0.4467 - acc: 0.9708\n",
            "Epoch 50/100\n",
            "3458/3458 [==============================] - 0s 128us/step - loss: 0.4404 - acc: 0.9719\n",
            "Epoch 51/100\n",
            "3458/3458 [==============================] - 0s 142us/step - loss: 0.4690 - acc: 0.9705\n",
            "Epoch 52/100\n",
            "3458/3458 [==============================] - 0s 133us/step - loss: 0.5360 - acc: 0.9656\n",
            "Epoch 53/100\n",
            "3458/3458 [==============================] - 0s 136us/step - loss: 0.4460 - acc: 0.9714\n",
            "Epoch 54/100\n",
            "3458/3458 [==============================] - 0s 122us/step - loss: 0.4356 - acc: 0.9728\n",
            "Epoch 55/100\n",
            "3458/3458 [==============================] - 0s 130us/step - loss: 0.6028 - acc: 0.9612\n",
            "Epoch 56/100\n",
            "3458/3458 [==============================] - 0s 138us/step - loss: 0.4349 - acc: 0.9717\n",
            "Epoch 57/100\n",
            "3458/3458 [==============================] - 0s 130us/step - loss: 0.4458 - acc: 0.9719\n",
            "Epoch 58/100\n",
            "3458/3458 [==============================] - 0s 140us/step - loss: 0.4137 - acc: 0.9740\n",
            "Epoch 59/100\n",
            "3458/3458 [==============================] - 0s 135us/step - loss: 0.3999 - acc: 0.9748\n",
            "Epoch 60/100\n",
            "3458/3458 [==============================] - 0s 144us/step - loss: 0.4230 - acc: 0.9728\n",
            "Epoch 61/100\n",
            "3458/3458 [==============================] - 0s 127us/step - loss: 0.4066 - acc: 0.9740\n",
            "Epoch 62/100\n",
            "3458/3458 [==============================] - 0s 139us/step - loss: 0.4226 - acc: 0.9728\n",
            "Epoch 63/100\n",
            "3458/3458 [==============================] - 0s 134us/step - loss: 0.4066 - acc: 0.9737\n",
            "Epoch 64/100\n",
            "3458/3458 [==============================] - 0s 136us/step - loss: 0.4068 - acc: 0.9743\n",
            "Epoch 65/100\n",
            "3458/3458 [==============================] - 0s 138us/step - loss: 0.4080 - acc: 0.9737\n",
            "Epoch 66/100\n",
            "3458/3458 [==============================] - 0s 132us/step - loss: 0.3799 - acc: 0.9757\n",
            "Epoch 67/100\n",
            "3458/3458 [==============================] - 1s 146us/step - loss: 0.4301 - acc: 0.9719\n",
            "Epoch 68/100\n",
            "3458/3458 [==============================] - 0s 139us/step - loss: 0.3733 - acc: 0.9766\n",
            "Epoch 69/100\n",
            "3458/3458 [==============================] - 0s 137us/step - loss: 0.3775 - acc: 0.9757\n",
            "Epoch 70/100\n",
            "3458/3458 [==============================] - 0s 135us/step - loss: 0.3389 - acc: 0.9789\n",
            "Epoch 71/100\n",
            "3458/3458 [==============================] - 0s 136us/step - loss: 0.3359 - acc: 0.9789\n",
            "Epoch 72/100\n",
            "3458/3458 [==============================] - 0s 132us/step - loss: 0.3356 - acc: 0.9792\n",
            "Epoch 73/100\n",
            "3458/3458 [==============================] - 1s 149us/step - loss: 0.3449 - acc: 0.9786\n",
            "Epoch 74/100\n",
            "3458/3458 [==============================] - 0s 136us/step - loss: 0.3449 - acc: 0.9786\n",
            "Epoch 75/100\n",
            "3458/3458 [==============================] - 1s 146us/step - loss: 0.3449 - acc: 0.9786\n",
            "Epoch 76/100\n",
            "3458/3458 [==============================] - 1s 150us/step - loss: 0.3449 - acc: 0.9786\n",
            "Epoch 77/100\n",
            "3458/3458 [==============================] - 0s 142us/step - loss: 0.3449 - acc: 0.9786\n",
            "Epoch 78/100\n",
            "3458/3458 [==============================] - 1s 152us/step - loss: 0.3449 - acc: 0.9786\n",
            "Epoch 79/100\n",
            "3458/3458 [==============================] - 0s 129us/step - loss: 0.3449 - acc: 0.9786\n",
            "Epoch 80/100\n",
            "3458/3458 [==============================] - 0s 125us/step - loss: 0.3449 - acc: 0.9786\n",
            "Epoch 81/100\n",
            "3458/3458 [==============================] - 0s 142us/step - loss: 0.3449 - acc: 0.9786\n",
            "Epoch 82/100\n",
            "3458/3458 [==============================] - 0s 134us/step - loss: 0.3449 - acc: 0.9786\n",
            "Epoch 83/100\n",
            "3458/3458 [==============================] - 0s 144us/step - loss: 0.3449 - acc: 0.9786\n",
            "Epoch 84/100\n",
            "3458/3458 [==============================] - 0s 144us/step - loss: 0.3449 - acc: 0.9786\n",
            "Epoch 85/100\n",
            "3458/3458 [==============================] - 0s 134us/step - loss: 0.3449 - acc: 0.9786\n",
            "Epoch 86/100\n",
            "3458/3458 [==============================] - 0s 134us/step - loss: 0.3449 - acc: 0.9786\n",
            "Epoch 87/100\n",
            "3458/3458 [==============================] - 0s 140us/step - loss: 0.3449 - acc: 0.9786\n",
            "Epoch 88/100\n",
            "3458/3458 [==============================] - 0s 142us/step - loss: 0.3449 - acc: 0.9786\n",
            "Epoch 89/100\n",
            "3458/3458 [==============================] - 0s 138us/step - loss: 0.3449 - acc: 0.9786\n",
            "Epoch 90/100\n",
            "3458/3458 [==============================] - 0s 134us/step - loss: 0.3449 - acc: 0.9786\n",
            "Epoch 91/100\n",
            "3458/3458 [==============================] - 1s 146us/step - loss: 0.3449 - acc: 0.9786\n",
            "Epoch 92/100\n",
            "3458/3458 [==============================] - 0s 137us/step - loss: 0.3449 - acc: 0.9786\n",
            "Epoch 93/100\n",
            "3458/3458 [==============================] - 0s 133us/step - loss: 0.3449 - acc: 0.9786\n",
            "Epoch 94/100\n",
            "3458/3458 [==============================] - 0s 134us/step - loss: 0.3449 - acc: 0.9786\n",
            "Epoch 95/100\n",
            "3458/3458 [==============================] - 0s 132us/step - loss: 0.3449 - acc: 0.9786\n",
            "Epoch 96/100\n",
            "3458/3458 [==============================] - 0s 140us/step - loss: 0.3449 - acc: 0.9786\n",
            "Epoch 97/100\n",
            "3458/3458 [==============================] - 0s 132us/step - loss: 0.3449 - acc: 0.9786\n",
            "Epoch 98/100\n",
            "3458/3458 [==============================] - 1s 148us/step - loss: 0.3449 - acc: 0.9786\n",
            "Epoch 99/100\n",
            "3458/3458 [==============================] - 0s 136us/step - loss: 0.3449 - acc: 0.9786\n",
            "Epoch 100/100\n",
            "3458/3458 [==============================] - 0s 134us/step - loss: 0.3449 - acc: 0.9786\n"
          ],
          "name": "stdout"
        }
      ]
    },
    {
      "cell_type": "code",
      "metadata": {
        "id": "YNmfOq_ZhKeA",
        "colab_type": "code",
        "colab": {
          "base_uri": "https://localhost:8080/",
          "height": 302
        },
        "outputId": "c2d51325-1115-434e-ca8d-731e1b2f050a"
      },
      "source": [
        "y_pred = model1.predict(X_test,verbose=0)\n",
        "rounded_labels=np.argmax(y_test, axis=1)\n",
        "rounded_pred=np.argmax(y_pred, axis=1)\n",
        "print(confusion_matrix(rounded_labels,rounded_pred))\n",
        "print(classification_report(rounded_labels,rounded_pred))"
      ],
      "execution_count": 86,
      "outputs": [
        {
          "output_type": "stream",
          "text": [
            "[[124  11   2   5   4]\n",
            " [  8 190   1   6   3]\n",
            " [  4   5 143   5  19]\n",
            " [  7   9   2 130   1]\n",
            " [  3   4  14  10 155]]\n",
            "              precision    recall  f1-score   support\n",
            "\n",
            "           0       0.85      0.85      0.85       146\n",
            "           1       0.87      0.91      0.89       208\n",
            "           2       0.88      0.81      0.85       176\n",
            "           3       0.83      0.87      0.85       149\n",
            "           4       0.85      0.83      0.84       186\n",
            "\n",
            "    accuracy                           0.86       865\n",
            "   macro avg       0.86      0.86      0.86       865\n",
            "weighted avg       0.86      0.86      0.86       865\n",
            "\n"
          ],
          "name": "stdout"
        }
      ]
    }
  ]
}