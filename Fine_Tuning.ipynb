{
  "nbformat": 4,
  "nbformat_minor": 0,
  "metadata": {
    "colab": {
      "name": "trainSoftmax.ipynb",
      "provenance": [],
      "include_colab_link": true
    },
    "kernelspec": {
      "name": "python3",
      "display_name": "Python 3"
    },
    "accelerator": "GPU"
  },
  "cells": [
    {
      "cell_type": "markdown",
      "metadata": {
        "id": "view-in-github",
        "colab_type": "text"
      },
      "source": [
        "<a href=\"https://colab.research.google.com/github/koyomin9zx/CS331.K11-FlowersClassification/blob/master/Fine_Tuning.ipynb\" target=\"_parent\"><img src=\"https://colab.research.google.com/assets/colab-badge.svg\" alt=\"Open In Colab\"/></a>"
      ]
    },
    {
      "cell_type": "code",
      "metadata": {
        "id": "mhKs-3EMUydu",
        "colab_type": "code",
        "colab": {}
      },
      "source": [
        "from google.colab import drive\n",
        "drive.mount('/content/drive')"
      ],
      "execution_count": null,
      "outputs": []
    },
    {
      "cell_type": "code",
      "metadata": {
        "id": "0Cm-QS4UVb-M",
        "colab_type": "code",
        "colab": {}
      },
      "source": [
        "!unzip /content/drive/'My Drive'/ML/dataset.zip\n",
        "!ln -s /content/drive/'My Drive'/ML/backup /content"
      ],
      "execution_count": null,
      "outputs": []
    },
    {
      "cell_type": "code",
      "metadata": {
        "id": "1PkdyZ5jVmbP",
        "colab_type": "code",
        "colab": {
          "base_uri": "https://localhost:8080/",
          "height": 121
        },
        "outputId": "453a4cea-399a-4c6f-a070-09a4f93179d2"
      },
      "source": [
        "# Thêm thư viện\n",
        "from sklearn.linear_model import LogisticRegression\n",
        "from sklearn.model_selection import GridSearchCV\n",
        "from sklearn.metrics import classification_report,confusion_matrix\n",
        "from imutils import paths\n",
        "from keras.applications import VGG16\n",
        "from keras.applications import imagenet_utils\n",
        "from keras.preprocessing.image import img_to_array\n",
        "from keras.preprocessing.image import load_img\n",
        "from sklearn.preprocessing import LabelBinarizer\n",
        "from keras import models\n",
        "from keras import layers\n",
        "from keras import optimizers\n",
        "from keras.optimizers import RMSprop, Adam\n",
        "from keras.preprocessing.image import ImageDataGenerator\n",
        "from sklearn.preprocessing import LabelEncoder\n",
        "from sklearn.model_selection import train_test_split\n",
        "import numpy as np\n",
        "import random\n",
        "import os\n",
        "import pandas as pd\n",
        "import matplotlib.pyplot as plt\n",
        "from sklearn.svm import SVC\n",
        "from sklearn.externals import joblib\n",
        "import cv2\n",
        "from pathlib import Path\n",
        "import seaborn as sns\n",
        "sns.set_style('darkgrid')"
      ],
      "execution_count": 1,
      "outputs": [
        {
          "output_type": "stream",
          "text": [
            "Using TensorFlow backend.\n",
            "/usr/local/lib/python3.6/dist-packages/sklearn/externals/joblib/__init__.py:15: FutureWarning: sklearn.externals.joblib is deprecated in 0.21 and will be removed in 0.23. Please import this functionality directly from joblib, which can be installed with: pip install joblib. If this warning is raised when loading pickled models, you may need to re-serialize those models with scikit-learn 0.21+.\n",
            "  warnings.warn(msg, category=FutureWarning)\n",
            "/usr/local/lib/python3.6/dist-packages/statsmodels/tools/_testing.py:19: FutureWarning: pandas.util.testing is deprecated. Use the functions in the public API at pandas.testing instead.\n",
            "  import pandas.util.testing as tm\n"
          ],
          "name": "stderr"
        }
      ]
    },
    {
      "cell_type": "code",
      "metadata": {
        "id": "4XzBTAQV0xwy",
        "colab_type": "code",
        "colab": {
          "base_uri": "https://localhost:8080/",
          "height": 195
        },
        "outputId": "d92e4ae1-bc6c-4069-9df7-9363475550f4"
      },
      "source": [
        "flowers_path=Path('dataset/')\n",
        "flower_types = os.listdir(flowers_path)\n",
        "flowers = []\n",
        "for species in flower_types:\n",
        "    all_flowers = os.listdir(flowers_path / species)\n",
        "    for flower in all_flowers:\n",
        "        flowers.append((species, str(flowers_path /species) + '/' + flower))\n",
        "     \n",
        "flowers = pd.DataFrame(data=flowers, columns=['category', 'image'], index=None)\n",
        "flowers.head()"
      ],
      "execution_count": 2,
      "outputs": [
        {
          "output_type": "execute_result",
          "data": {
            "text/html": [
              "<div>\n",
              "<style scoped>\n",
              "    .dataframe tbody tr th:only-of-type {\n",
              "        vertical-align: middle;\n",
              "    }\n",
              "\n",
              "    .dataframe tbody tr th {\n",
              "        vertical-align: top;\n",
              "    }\n",
              "\n",
              "    .dataframe thead th {\n",
              "        text-align: right;\n",
              "    }\n",
              "</style>\n",
              "<table border=\"1\" class=\"dataframe\">\n",
              "  <thead>\n",
              "    <tr style=\"text-align: right;\">\n",
              "      <th></th>\n",
              "      <th>category</th>\n",
              "      <th>image</th>\n",
              "    </tr>\n",
              "  </thead>\n",
              "  <tbody>\n",
              "    <tr>\n",
              "      <th>0</th>\n",
              "      <td>tulip</td>\n",
              "      <td>dataset/tulip/7166632158_666116d770_n.jpg</td>\n",
              "    </tr>\n",
              "    <tr>\n",
              "      <th>1</th>\n",
              "      <td>tulip</td>\n",
              "      <td>dataset/tulip/16133946004_2e935d9433_n.jpg</td>\n",
              "    </tr>\n",
              "    <tr>\n",
              "      <th>2</th>\n",
              "      <td>tulip</td>\n",
              "      <td>dataset/tulip/3540595981_73f14d1227_n.jpg</td>\n",
              "    </tr>\n",
              "    <tr>\n",
              "      <th>3</th>\n",
              "      <td>tulip</td>\n",
              "      <td>dataset/tulip/7136973281_b2a935ce20.jpg</td>\n",
              "    </tr>\n",
              "    <tr>\n",
              "      <th>4</th>\n",
              "      <td>tulip</td>\n",
              "      <td>dataset/tulip/6931674908_8e93bd4554.jpg</td>\n",
              "    </tr>\n",
              "  </tbody>\n",
              "</table>\n",
              "</div>"
            ],
            "text/plain": [
              "  category                                       image\n",
              "0    tulip   dataset/tulip/7166632158_666116d770_n.jpg\n",
              "1    tulip  dataset/tulip/16133946004_2e935d9433_n.jpg\n",
              "2    tulip   dataset/tulip/3540595981_73f14d1227_n.jpg\n",
              "3    tulip     dataset/tulip/7136973281_b2a935ce20.jpg\n",
              "4    tulip     dataset/tulip/6931674908_8e93bd4554.jpg"
            ]
          },
          "metadata": {
            "tags": []
          },
          "execution_count": 2
        }
      ]
    },
    {
      "cell_type": "code",
      "metadata": {
        "id": "mVW5cHwL1TQF",
        "colab_type": "code",
        "colab": {
          "base_uri": "https://localhost:8080/",
          "height": 394
        },
        "outputId": "46fb47f4-5f23-4faf-dae9-7ebb7b4e3680"
      },
      "source": [
        "fl_count = flowers['category'].value_counts()\n",
        "f, axe = plt.subplots(1,1,figsize=(14,6))\n",
        "sns.barplot(x = fl_count.index, y = fl_count.values, ax = axe)\n",
        "axe.set_title(\"Số lượng hoa mỗi class\", fontsize=16)\n",
        "#axe.set_xlabel('class', fontsize=14)\n",
        "#axe.set_ylabel('số lượng', fontsize=14)\n",
        "plt.show()"
      ],
      "execution_count": 3,
      "outputs": [
        {
          "output_type": "display_data",
          "data": {
            "image/png": "[encoded data removed]",
            "text/plain": [
              "<Figure size 1008x432 with 1 Axes>"
            ]
          },
          "metadata": {
            "tags": [],
            "needs_background": "light"
          }
        }
      ]
    },
    {
      "cell_type": "code",
      "metadata": {
        "id": "ToIMir_5VpTL",
        "colab_type": "code",
        "colab": {}
      },
      "source": [
        "# Lấy các đường dẫn đến ảnh.\n",
        "image_path = list(paths.list_images('dataset/'))\n",
        "\n",
        "# Đổi vị trí ngẫu nhiên các đường dẫn ảnh\n",
        "random.shuffle(image_path)"
      ],
      "execution_count": 4,
      "outputs": []
    },
    {
      "cell_type": "code",
      "metadata": {
        "id": "M74-zSKvVssk",
        "colab_type": "code",
        "colab": {}
      },
      "source": [
        "# Đường dẫn ảnh sẽ là dataset/tên_loài_hoa/tên_ảnh ví dụ dataset/Bluebell/image_0241.jpg nên p.split(os.path.sep)[-2] sẽ lấy ra được tên loài hoa\n",
        "labels = [p.split(os.path.sep)[-2] for p in image_path]\n",
        "\n",
        "# Chuyển tên các loài hoa thành số\n",
        "# le = LabelEncoder()\n",
        "# labels = le.fit_transform(labels)\n",
        "\n",
        "lb = LabelBinarizer()\n",
        "labels = lb.fit_transform(labels)"
      ],
      "execution_count": 5,
      "outputs": []
    },
    {
      "cell_type": "code",
      "metadata": {
        "id": "xuXXCl5NVxkj",
        "colab_type": "code",
        "colab": {}
      },
      "source": [
        "# Load model VGG 16 của ImageNet dataset, include_top=False để bỏ phần Fully connected layer ở cuối.\n",
        "model = VGG16(weights='imagenet', include_top=False)"
      ],
      "execution_count": 6,
      "outputs": []
    },
    {
      "cell_type": "code",
      "metadata": {
        "id": "knYHic3LV4Ac",
        "colab_type": "code",
        "colab": {}
      },
      "source": [
        "# Load ảnh và resize về đúng kích thước mà VGG 16 cần là (224,224)\n",
        "list_image = []\n",
        "for (j, imagePath) in enumerate(image_path):\n",
        "    image = load_img(imagePath, target_size=(224, 224))\n",
        "    image = img_to_array(image)\n",
        "    \n",
        "    image = np.expand_dims(image, 0)\n",
        "    image = imagenet_utils.preprocess_input(image)\n",
        "    \n",
        "    list_image.append(image)\n",
        "    \n",
        "list_image = np.vstack(list_image)"
      ],
      "execution_count": 7,
      "outputs": []
    },
    {
      "cell_type": "code",
      "metadata": {
        "id": "mY52EewVaEH5",
        "colab_type": "code",
        "colab": {
          "base_uri": "https://localhost:8080/",
          "height": 386
        },
        "outputId": "f67584f4-67c4-416d-f881-b8114ffef02b"
      },
      "source": [
        "from keras.backend import clear_session\n",
        "clear_session()\n",
        "\n",
        "# Load model VGG 16 của ImageNet dataset, include_top=False để bỏ phần Fully connected layer ở cuối.\n",
        "conv_base  = VGG16(weights='imagenet', include_top=False, input_shape=(224, 224, 3))\n",
        "model = models.Sequential()\n",
        "model.add(conv_base)\n",
        "model.add(layers.Flatten())\n",
        "model.add(layers.Dense(512, activation='relu'))\n",
        "model.add(layers.Dropout(0.5))\n",
        "model.add(layers.Dense(128, activation='relu'))\n",
        "model.add(layers.Dropout(0.3))\n",
        "model.add(layers.Dense(5, activation='softmax'))\n",
        "model.summary()"
      ],
      "execution_count": 13,
      "outputs": [
        {
          "output_type": "stream",
          "text": [
            "Model: \"sequential_1\"\n",
            "_________________________________________________________________\n",
            "Layer (type)                 Output Shape              Param #   \n",
            "=================================================================\n",
            "vgg16 (Model)                (None, 7, 7, 512)         14714688  \n",
            "_________________________________________________________________\n",
            "flatten_1 (Flatten)          (None, 25088)             0         \n",
            "_________________________________________________________________\n",
            "dense_1 (Dense)              (None, 512)               12845568  \n",
            "_________________________________________________________________\n",
            "dropout_1 (Dropout)          (None, 512)               0         \n",
            "_________________________________________________________________\n",
            "dense_2 (Dense)              (None, 128)               65664     \n",
            "_________________________________________________________________\n",
            "dropout_2 (Dropout)          (None, 128)               0         \n",
            "_________________________________________________________________\n",
            "dense_3 (Dense)              (None, 5)                 645       \n",
            "=================================================================\n",
            "Total params: 27,626,565\n",
            "Trainable params: 27,626,565\n",
            "Non-trainable params: 0\n",
            "_________________________________________________________________\n"
          ],
          "name": "stdout"
        }
      ]
    },
    {
      "cell_type": "code",
      "metadata": {
        "id": "nolo9Nsn4TFI",
        "colab_type": "code",
        "colab": {}
      },
      "source": [
        "# Chia traing set, test set tỉ lệ 80-20\n",
        "X_train, X_test, y_train, y_test = train_test_split(list_image, labels, test_size=0.2, random_state=42)"
      ],
      "execution_count": 9,
      "outputs": []
    },
    {
      "cell_type": "code",
      "metadata": {
        "id": "MP1poEfq4mgp",
        "colab_type": "code",
        "colab": {}
      },
      "source": [
        "# augmentation cho training data\n",
        "aug_train = ImageDataGenerator(rescale=1./255, rotation_range=40, width_shift_range=0.2, height_shift_range=0.2, shear_range=0.2, \n",
        "                         zoom_range=0.2, horizontal_flip=True)\n",
        "# augementation cho test\n",
        "aug_test= ImageDataGenerator(rescale=1./255)"
      ],
      "execution_count": 10,
      "outputs": []
    },
    {
      "cell_type": "code",
      "metadata": {
        "id": "2pRS_oF44pmo",
        "colab_type": "code",
        "colab": {
          "base_uri": "https://localhost:8080/",
          "height": 1000
        },
        "outputId": "064f9c9d-1b75-410f-ab06-05ae5b344549"
      },
      "source": [
        "# freeze VGG model\n",
        "for layer in conv_base.layers:\n",
        "    layer.trainable = False\n",
        "    \n",
        "opt = Adam(2e-5)\n",
        "model.compile(opt, 'categorical_crossentropy', ['accuracy'])\n",
        "numOfEpoch = 20\n",
        "H = model.fit_generator(aug_train.flow(X_train, y_train, batch_size=32), \n",
        "                        steps_per_epoch=len(X_train)//32,\n",
        "                        validation_data=(aug_test.flow(X_test, y_test, batch_size=32)),\n",
        "                        validation_steps=len(X_test)//32,\n",
        "                        epochs=numOfEpoch)\n",
        "\n",
        "#unfreeze some last CNN layer:\n",
        "for layer in conv_base.layers[15:]:\n",
        "    layer.trainable = True\n",
        "\n",
        "numOfEpoch = 25\n",
        "opt = Adam(2e-5)\n",
        "model.compile(opt, 'categorical_crossentropy', ['accuracy'])\n",
        "H1 = model.fit_generator(aug_train.flow(X_train, y_train, batch_size=32), \n",
        "                        steps_per_epoch=len(X_train)//32,\n",
        "                        validation_data=(aug_test.flow(X_test, y_test, batch_size=32)),\n",
        "                        validation_steps=len(X_test)//32,\n",
        "                        epochs=numOfEpoch)"
      ],
      "execution_count": 14,
      "outputs": [
        {
          "output_type": "stream",
          "text": [
            "Epoch 1/20\n",
            "108/108 [==============================] - 41s 379ms/step - loss: 1.4950 - accuracy: 0.3748 - val_loss: 0.9416 - val_accuracy: 0.6377\n",
            "Epoch 2/20\n",
            "108/108 [==============================] - 37s 341ms/step - loss: 1.1280 - accuracy: 0.5619 - val_loss: 0.5880 - val_accuracy: 0.7287\n",
            "Epoch 3/20\n",
            "108/108 [==============================] - 36s 336ms/step - loss: 0.9804 - accuracy: 0.6267 - val_loss: 0.6868 - val_accuracy: 0.7515\n",
            "Epoch 4/20\n",
            "108/108 [==============================] - 36s 335ms/step - loss: 0.9030 - accuracy: 0.6541 - val_loss: 0.4273 - val_accuracy: 0.7719\n",
            "Epoch 5/20\n",
            "108/108 [==============================] - 36s 334ms/step - loss: 0.8293 - accuracy: 0.6950 - val_loss: 0.5993 - val_accuracy: 0.7935\n",
            "Epoch 6/20\n",
            "108/108 [==============================] - 36s 331ms/step - loss: 0.7746 - accuracy: 0.7092 - val_loss: 0.3730 - val_accuracy: 0.8127\n",
            "Epoch 7/20\n",
            "108/108 [==============================] - 35s 326ms/step - loss: 0.7579 - accuracy: 0.7191 - val_loss: 0.3865 - val_accuracy: 0.7935\n",
            "Epoch 8/20\n",
            "108/108 [==============================] - 36s 330ms/step - loss: 0.7223 - accuracy: 0.7277 - val_loss: 0.4144 - val_accuracy: 0.8175\n",
            "Epoch 9/20\n",
            "108/108 [==============================] - 35s 327ms/step - loss: 0.6902 - accuracy: 0.7344 - val_loss: 0.5977 - val_accuracy: 0.8211\n",
            "Epoch 10/20\n",
            "108/108 [==============================] - 35s 329ms/step - loss: 0.6657 - accuracy: 0.7504 - val_loss: 0.5089 - val_accuracy: 0.8079\n",
            "Epoch 11/20\n",
            "108/108 [==============================] - 35s 328ms/step - loss: 0.6624 - accuracy: 0.7612 - val_loss: 0.5737 - val_accuracy: 0.8139\n",
            "Epoch 12/20\n",
            "108/108 [==============================] - 35s 328ms/step - loss: 0.6282 - accuracy: 0.7674 - val_loss: 0.6505 - val_accuracy: 0.8283\n",
            "Epoch 13/20\n",
            "108/108 [==============================] - 35s 328ms/step - loss: 0.6260 - accuracy: 0.7720 - val_loss: 0.4285 - val_accuracy: 0.8223\n",
            "Epoch 14/20\n",
            "108/108 [==============================] - 36s 329ms/step - loss: 0.6197 - accuracy: 0.7732 - val_loss: 0.3724 - val_accuracy: 0.8391\n",
            "Epoch 15/20\n",
            "108/108 [==============================] - 36s 331ms/step - loss: 0.5777 - accuracy: 0.7922 - val_loss: 0.5505 - val_accuracy: 0.8343\n",
            "Epoch 16/20\n",
            "108/108 [==============================] - 35s 324ms/step - loss: 0.5785 - accuracy: 0.7759 - val_loss: 0.3330 - val_accuracy: 0.8259\n",
            "Epoch 17/20\n",
            "108/108 [==============================] - 35s 328ms/step - loss: 0.5813 - accuracy: 0.7805 - val_loss: 0.4016 - val_accuracy: 0.8259\n",
            "Epoch 18/20\n",
            "108/108 [==============================] - 35s 329ms/step - loss: 0.5750 - accuracy: 0.7896 - val_loss: 0.2864 - val_accuracy: 0.8487\n",
            "Epoch 19/20\n",
            "108/108 [==============================] - 35s 327ms/step - loss: 0.5672 - accuracy: 0.7852 - val_loss: 0.5969 - val_accuracy: 0.8139\n",
            "Epoch 20/20\n",
            "108/108 [==============================] - 35s 328ms/step - loss: 0.5405 - accuracy: 0.7992 - val_loss: 0.4661 - val_accuracy: 0.8379\n",
            "Epoch 1/25\n",
            "108/108 [==============================] - 38s 348ms/step - loss: 0.5103 - accuracy: 0.8149 - val_loss: 0.5563 - val_accuracy: 0.8588\n",
            "Epoch 2/25\n",
            "108/108 [==============================] - 37s 343ms/step - loss: 0.4157 - accuracy: 0.8430 - val_loss: 0.3642 - val_accuracy: 0.8776\n",
            "Epoch 3/25\n",
            "108/108 [==============================] - 37s 342ms/step - loss: 0.3531 - accuracy: 0.8637 - val_loss: 0.3971 - val_accuracy: 0.8788\n",
            "Epoch 4/25\n",
            "108/108 [==============================] - 37s 339ms/step - loss: 0.3330 - accuracy: 0.8745 - val_loss: 0.5285 - val_accuracy: 0.9016\n",
            "Epoch 5/25\n",
            "108/108 [==============================] - 36s 334ms/step - loss: 0.3031 - accuracy: 0.8911 - val_loss: 0.4711 - val_accuracy: 0.8812\n",
            "Epoch 6/25\n",
            "108/108 [==============================] - 36s 334ms/step - loss: 0.2869 - accuracy: 0.8952 - val_loss: 0.3526 - val_accuracy: 0.8968\n",
            "Epoch 7/25\n",
            "108/108 [==============================] - 36s 333ms/step - loss: 0.2523 - accuracy: 0.9130 - val_loss: 0.3033 - val_accuracy: 0.8920\n",
            "Epoch 8/25\n",
            "108/108 [==============================] - 36s 332ms/step - loss: 0.2416 - accuracy: 0.9121 - val_loss: 0.4753 - val_accuracy: 0.8968\n",
            "Epoch 9/25\n",
            "108/108 [==============================] - 36s 332ms/step - loss: 0.2080 - accuracy: 0.9235 - val_loss: 0.3090 - val_accuracy: 0.8848\n",
            "Epoch 10/25\n",
            "108/108 [==============================] - 36s 334ms/step - loss: 0.2036 - accuracy: 0.9265 - val_loss: 0.3631 - val_accuracy: 0.8884\n",
            "Epoch 11/25\n",
            "108/108 [==============================] - 36s 333ms/step - loss: 0.1916 - accuracy: 0.9276 - val_loss: 0.1817 - val_accuracy: 0.9220\n",
            "Epoch 12/25\n",
            "108/108 [==============================] - 36s 333ms/step - loss: 0.1684 - accuracy: 0.9387 - val_loss: 0.3668 - val_accuracy: 0.8968\n",
            "Epoch 13/25\n",
            "108/108 [==============================] - 36s 334ms/step - loss: 0.1543 - accuracy: 0.9440 - val_loss: 0.7638 - val_accuracy: 0.9076\n",
            "Epoch 14/25\n",
            "108/108 [==============================] - 36s 333ms/step - loss: 0.1582 - accuracy: 0.9442 - val_loss: 0.0996 - val_accuracy: 0.9148\n",
            "Epoch 15/25\n",
            "108/108 [==============================] - 36s 333ms/step - loss: 0.1504 - accuracy: 0.9472 - val_loss: 0.1915 - val_accuracy: 0.8920\n",
            "Epoch 16/25\n",
            "108/108 [==============================] - 36s 332ms/step - loss: 0.1266 - accuracy: 0.9550 - val_loss: 0.1798 - val_accuracy: 0.8980\n",
            "Epoch 17/25\n",
            "108/108 [==============================] - 36s 333ms/step - loss: 0.1186 - accuracy: 0.9621 - val_loss: 0.2402 - val_accuracy: 0.9148\n",
            "Epoch 18/25\n",
            "108/108 [==============================] - 36s 333ms/step - loss: 0.1175 - accuracy: 0.9586 - val_loss: 0.1740 - val_accuracy: 0.8872\n",
            "Epoch 19/25\n",
            "108/108 [==============================] - 36s 332ms/step - loss: 0.1145 - accuracy: 0.9594 - val_loss: 0.4781 - val_accuracy: 0.9100\n",
            "Epoch 20/25\n",
            "108/108 [==============================] - 36s 338ms/step - loss: 0.0948 - accuracy: 0.9693 - val_loss: 0.2104 - val_accuracy: 0.8944\n",
            "Epoch 21/25\n",
            "108/108 [==============================] - 36s 333ms/step - loss: 0.0976 - accuracy: 0.9691 - val_loss: 0.4750 - val_accuracy: 0.9016\n",
            "Epoch 22/25\n",
            "108/108 [==============================] - 36s 330ms/step - loss: 0.1115 - accuracy: 0.9623 - val_loss: 0.2346 - val_accuracy: 0.9004\n",
            "Epoch 23/25\n",
            "108/108 [==============================] - 36s 334ms/step - loss: 0.0787 - accuracy: 0.9757 - val_loss: 0.0683 - val_accuracy: 0.9220\n",
            "Epoch 24/25\n",
            "108/108 [==============================] - 36s 330ms/step - loss: 0.0855 - accuracy: 0.9706 - val_loss: 0.1513 - val_accuracy: 0.9136\n",
            "Epoch 25/25\n",
            "108/108 [==============================] - 36s 332ms/step - loss: 0.0832 - accuracy: 0.9711 - val_loss: 0.2106 - val_accuracy: 0.9004\n"
          ],
          "name": "stdout"
        }
      ]
    },
    {
      "cell_type": "code",
      "metadata": {
        "id": "AVK66oDxxcaj",
        "colab_type": "code",
        "colab": {}
      },
      "source": [
        "H.history['loss'].extend(H1.history['loss'])\n",
        "H.history['accuracy'].extend(H1.history['accuracy'])\n",
        "H.history['val_loss'].extend(H1.history['val_loss'])\n",
        "H.history['val_accuracy'].extend(H1.history['val_accuracy'])"
      ],
      "execution_count": 15,
      "outputs": []
    },
    {
      "cell_type": "code",
      "metadata": {
        "id": "Vh8RsR0IxeVE",
        "colab_type": "code",
        "colab": {
          "base_uri": "https://localhost:8080/",
          "height": 356
        },
        "outputId": "94c103e2-5730-4d55-ae2b-8c654f3011fe"
      },
      "source": [
        "import matplotlib.pyplot as plt\n",
        "\n",
        "fig, (ax1, ax2) = plt.subplots(1,2,figsize=(15,5))\n",
        "fig.suptitle(\"Performance of Model\")\n",
        "ax1.plot(H.history['accuracy'])\n",
        "ax1.plot(H.history['val_accuracy'])\n",
        "vline_cut = np.where(H.history['val_accuracy'] == np.max(H.history['val_accuracy']))[0][0]\n",
        "ax1.set_title(\"Model Accuracy\")\n",
        "ax1.legend(['train', 'val'])\n",
        "\n",
        "ax2.plot(H.history['loss'])\n",
        "ax2.plot(H.history['val_loss'])\n",
        "vline_cut = np.where(H.history['val_loss'] == np.min(H.history['val_loss']))[0][0]\n",
        "ax2.set_title(\"Model Loss\")\n",
        "ax2.legend(['train', 'val'])\n",
        "plt.show()"
      ],
      "execution_count": 16,
      "outputs": [
        {
          "output_type": "display_data",
          "data": {
            "image/png": "[encoded data removed]",
            "text/plain": [
              "<Figure size 1080x360 with 2 Axes>"
            ]
          },
          "metadata": {
            "tags": [],
            "needs_background": "light"
          }
        }
      ]
    },
    {
      "cell_type": "code",
      "metadata": {
        "id": "YNmfOq_ZhKeA",
        "colab_type": "code",
        "colab": {
          "base_uri": "https://localhost:8080/",
          "height": 319
        },
        "outputId": "33672069-0bb5-418d-87c8-714011b84efc"
      },
      "source": [
        "y_pred = model.predict(X_test)\n",
        "rounded_labels=np.argmax(y_test, axis=1)\n",
        "rounded_pred=np.argmax(y_pred, axis=1)\n",
        "print(confusion_matrix(rounded_labels,rounded_pred),'\\n')\n",
        "print(classification_report(rounded_labels,rounded_pred))"
      ],
      "execution_count": 38,
      "outputs": [
        {
          "output_type": "stream",
          "text": [
            "[[146   2   1   2   6]\n",
            " [ 25 164   0   8  17]\n",
            " [  2   0 101   1  70]\n",
            " [  3   2   2 119  10]\n",
            " [  4   0   2   0 178]] \n",
            "\n",
            "              precision    recall  f1-score   support\n",
            "\n",
            "           0       0.81      0.93      0.87       157\n",
            "           1       0.98      0.77      0.86       214\n",
            "           2       0.95      0.58      0.72       174\n",
            "           3       0.92      0.88      0.89       136\n",
            "           4       0.63      0.97      0.77       184\n",
            "\n",
            "    accuracy                           0.82       865\n",
            "   macro avg       0.86      0.82      0.82       865\n",
            "weighted avg       0.86      0.82      0.82       865\n",
            "\n"
          ],
          "name": "stdout"
        }
      ]
    }
  ]
}