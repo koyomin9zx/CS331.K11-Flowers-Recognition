{
  "nbformat": 4,
  "nbformat_minor": 0,
  "metadata": {
    "colab": {
      "name": "testModel.ipynb",
      "provenance": [],
      "include_colab_link": true
    },
    "kernelspec": {
      "name": "python3",
      "display_name": "Python 3"
    },
    "accelerator": "GPU"
  },
  "cells": [
    {
      "cell_type": "markdown",
      "metadata": {
        "id": "view-in-github",
        "colab_type": "text"
      },
      "source": [
        "<a href=\"https://colab.research.google.com/github/koyomin9zx/CS331.K11-Flowers-Recognition/blob/master/testModel.ipynb\" target=\"_parent\"><img src=\"https://colab.research.google.com/assets/colab-badge.svg\" alt=\"Open In Colab\"/></a>"
      ]
    },
    {
      "cell_type": "code",
      "metadata": {
        "id": "IdbomjJeLlUr",
        "colab_type": "code",
        "outputId": "9bb86188-4fdc-498b-a2c1-c00d7a6bc902",
        "colab": {
          "base_uri": "https://localhost:8080/",
          "height": 121
        }
      },
      "source": [
        "#kết nối driver\n",
        "from google.colab import drive\n",
        "drive.mount('/content/drive')"
      ],
      "execution_count": 1,
      "outputs": [
        {
          "output_type": "stream",
          "text": [
            "Go to this URL in a browser: https://accounts.google.com/o/oauth2/auth?client_id=947318989803-6bn6qk8qdgf4n4g3pfee6491hc0brc4i.apps.googleusercontent.com&redirect_uri=urn%3aietf%3awg%3aoauth%3a2.0%3aoob&response_type=code&scope=email%20https%3a%2f%2fwww.googleapis.com%2fauth%2fdocs.test%20https%3a%2f%2fwww.googleapis.com%2fauth%2fdrive%20https%3a%2f%2fwww.googleapis.com%2fauth%2fdrive.photos.readonly%20https%3a%2f%2fwww.googleapis.com%2fauth%2fpeopleapi.readonly\n",
            "\n",
            "Enter your authorization code:\n",
            "··········\n",
            "Mounted at /content/drive\n"
          ],
          "name": "stdout"
        }
      ]
    },
    {
      "cell_type": "code",
      "metadata": {
        "id": "FhBcOGO8MDpd",
        "colab_type": "code",
        "colab": {}
      },
      "source": [
        "!ln -s /content/drive/'My Drive'/ML/backup /content"
      ],
      "execution_count": 0,
      "outputs": []
    },
    {
      "cell_type": "code",
      "metadata": {
        "id": "34MQ2su2sTpF",
        "colab_type": "code",
        "colab": {}
      },
      "source": [
        "!unzip /content/drive/'My Drive'/ML/dataset.zip"
      ],
      "execution_count": 0,
      "outputs": []
    },
    {
      "cell_type": "code",
      "metadata": {
        "id": "NyjynGDLMK74",
        "colab_type": "code",
        "colab": {}
      },
      "source": [
        "# Thêm thư viện\n",
        "from sklearn.linear_model import LogisticRegression\n",
        "from sklearn.model_selection import GridSearchCV\n",
        "from sklearn.metrics import classification_report,confusion_matrix\n",
        "from imutils import paths\n",
        "from keras.applications import VGG16\n",
        "from keras.applications import imagenet_utils\n",
        "from keras.preprocessing.image import img_to_array\n",
        "from keras.preprocessing.image import load_img\n",
        "from sklearn.preprocessing import LabelEncoder\n",
        "from sklearn.model_selection import train_test_split\n",
        "import numpy as np\n",
        "import random\n",
        "import os\n",
        "import pandas as pd\n",
        "import matplotlib.pyplot as plt\n",
        "from sklearn.svm import SVC\n",
        "from sklearn.externals import joblib\n",
        "import cv2\n",
        "from keras import models\n",
        "from keras import layers\n",
        "from keras import optimizers"
      ],
      "execution_count": 0,
      "outputs": []
    },
    {
      "cell_type": "code",
      "metadata": {
        "id": "epPYt406sjKQ",
        "colab_type": "code",
        "colab": {
          "base_uri": "https://localhost:8080/",
          "height": 406
        },
        "outputId": "f19b1bb1-3776-480b-fb90-4200d838d7da"
      },
      "source": [
        "# Lấy các đường dẫn đến ảnh.\n",
        "image_path = list(paths.list_images('dataset/'))\n",
        "\n",
        "# Đổi vị trí ngẫu nhiên các đường dẫn ảnh\n",
        "random.shuffle(image_path)\n",
        "\n",
        "# Đường dẫn ảnh sẽ là dataset/tên_loài_hoa/tên_ảnh ví dụ dataset/Bluebell/image_0241.jpg nên p.split(os.path.sep)[-2] sẽ lấy ra được tên loài hoa\n",
        "labels = [p.split(os.path.sep)[-2] for p in image_path]\n",
        "\n",
        "# Chuyển tên các loài hoa thành số\n",
        "le = LabelEncoder()\n",
        "labels = le.fit_transform(labels)\n",
        "\n",
        "# Load model VGG 16 của ImageNet dataset, include_top=False để bỏ phần Fully connected layer ở cuối.\n",
        "model = VGG16(weights='imagenet', include_top=False)\n",
        "\n",
        "# Load ảnh và resize về đúng kích thước mà VGG 16 cần là (224,224)\n",
        "list_image = []\n",
        "for (j, imagePath) in enumerate(image_path):\n",
        "    image = load_img(imagePath, target_size=(224, 224))\n",
        "    image = img_to_array(image)\n",
        "    \n",
        "    image = np.expand_dims(image, 0)\n",
        "    image = imagenet_utils.preprocess_input(image)\n",
        "    \n",
        "    list_image.append(image)\n",
        "    \n",
        "list_image = np.vstack(list_image)\n",
        "\n",
        "\n",
        "# Dùng pre-trained model để lấy ra các feature của ảnh\n",
        "features = model.predict(list_image)\n",
        "\n",
        "# Giống bước flatten trong CNN, chuyển từ tensor 3 chiều sau ConvNet sang vector 1 chiều\n",
        "features = features.reshape((features.shape[0], 512*7*7))"
      ],
      "execution_count": 6,
      "outputs": [
        {
          "output_type": "stream",
          "text": [
            "WARNING:tensorflow:From /usr/local/lib/python3.6/dist-packages/keras/backend/tensorflow_backend.py:66: The name tf.get_default_graph is deprecated. Please use tf.compat.v1.get_default_graph instead.\n",
            "\n",
            "WARNING:tensorflow:From /usr/local/lib/python3.6/dist-packages/keras/backend/tensorflow_backend.py:541: The name tf.placeholder is deprecated. Please use tf.compat.v1.placeholder instead.\n",
            "\n",
            "WARNING:tensorflow:From /usr/local/lib/python3.6/dist-packages/keras/backend/tensorflow_backend.py:4432: The name tf.random_uniform is deprecated. Please use tf.random.uniform instead.\n",
            "\n",
            "WARNING:tensorflow:From /usr/local/lib/python3.6/dist-packages/keras/backend/tensorflow_backend.py:4267: The name tf.nn.max_pool is deprecated. Please use tf.nn.max_pool2d instead.\n",
            "\n",
            "Downloading data from https://github.com/fchollet/deep-learning-models/releases/download/v0.1/vgg16_weights_tf_dim_ordering_tf_kernels_notop.h5\n",
            "58892288/58889256 [==============================] - 5s 0us/step\n",
            "WARNING:tensorflow:From /usr/local/lib/python3.6/dist-packages/keras/backend/tensorflow_backend.py:190: The name tf.get_default_session is deprecated. Please use tf.compat.v1.get_default_session instead.\n",
            "\n",
            "WARNING:tensorflow:From /usr/local/lib/python3.6/dist-packages/keras/backend/tensorflow_backend.py:197: The name tf.ConfigProto is deprecated. Please use tf.compat.v1.ConfigProto instead.\n",
            "\n",
            "WARNING:tensorflow:From /usr/local/lib/python3.6/dist-packages/keras/backend/tensorflow_backend.py:203: The name tf.Session is deprecated. Please use tf.compat.v1.Session instead.\n",
            "\n",
            "WARNING:tensorflow:From /usr/local/lib/python3.6/dist-packages/keras/backend/tensorflow_backend.py:207: The name tf.global_variables is deprecated. Please use tf.compat.v1.global_variables instead.\n",
            "\n",
            "WARNING:tensorflow:From /usr/local/lib/python3.6/dist-packages/keras/backend/tensorflow_backend.py:216: The name tf.is_variable_initialized is deprecated. Please use tf.compat.v1.is_variable_initialized instead.\n",
            "\n",
            "WARNING:tensorflow:From /usr/local/lib/python3.6/dist-packages/keras/backend/tensorflow_backend.py:223: The name tf.variables_initializer is deprecated. Please use tf.compat.v1.variables_initializer instead.\n",
            "\n"
          ],
          "name": "stdout"
        }
      ]
    },
    {
      "cell_type": "code",
      "metadata": {
        "id": "qUmiSUo-s9gx",
        "colab_type": "code",
        "colab": {}
      },
      "source": [
        "# Chia traing set, test set tỉ lệ 80-20\n",
        "X_train, X_test, y_train, y_test = train_test_split(features, labels, test_size=0.2, random_state=42)"
      ],
      "execution_count": 0,
      "outputs": []
    },
    {
      "cell_type": "code",
      "metadata": {
        "id": "xO0uUNBLFfh9",
        "colab_type": "code",
        "colab": {}
      },
      "source": [
        "svm_gauss = joblib.load('backup/svm_gauss.pkl')\n",
        "svm_linear=joblib.load('backup/svm_linear.pkl')\n",
        "svm_poly=joblib.load('backup/svm_poly.pkl')"
      ],
      "execution_count": 0,
      "outputs": []
    },
    {
      "cell_type": "code",
      "metadata": {
        "id": "yqxh31dutthj",
        "colab_type": "code",
        "colab": {
          "base_uri": "https://localhost:8080/",
          "height": 336
        },
        "outputId": "299bfdc8-fc30-4a06-a659-388114d85712"
      },
      "source": [
        "\n",
        "#kiểm tra kết quả của linearSVM\n",
        "y_pred = svm_linear.predict(X_test)\n",
        "print(confusion_matrix(y_test,y_pred))\n",
        "print(\"\\n\")\n",
        "print(classification_report(y_test,y_pred))"
      ],
      "execution_count": 11,
      "outputs": [
        {
          "output_type": "stream",
          "text": [
            "[[146   4   1   1   1]\n",
            " [  1 210   0   0   1]\n",
            " [  1   0 144   1   2]\n",
            " [  2   0   2 148   0]\n",
            " [  0   1   2   0 197]]\n",
            "\n",
            "\n",
            "              precision    recall  f1-score   support\n",
            "\n",
            "           0       0.97      0.95      0.96       153\n",
            "           1       0.98      0.99      0.98       212\n",
            "           2       0.97      0.97      0.97       148\n",
            "           3       0.99      0.97      0.98       152\n",
            "           4       0.98      0.98      0.98       200\n",
            "\n",
            "    accuracy                           0.98       865\n",
            "   macro avg       0.98      0.98      0.98       865\n",
            "weighted avg       0.98      0.98      0.98       865\n",
            "\n"
          ],
          "name": "stdout"
        }
      ]
    },
    {
      "cell_type": "code",
      "metadata": {
        "id": "3gmUfXk3uvNs",
        "colab_type": "code",
        "colab": {
          "base_uri": "https://localhost:8080/",
          "height": 336
        },
        "outputId": "f6cdbf8f-46a4-4149-fdf5-ec783f279e29"
      },
      "source": [
        "#kiểm tra kết quả của SVM với kernel polynominal\n",
        "y_pred_poly = svm_poly.predict(X_test)\n",
        "print(confusion_matrix(y_test,y_pred_poly))\n",
        "print(\"\\n\")\n",
        "print(classification_report(y_test,y_pred_poly))"
      ],
      "execution_count": 52,
      "outputs": [
        {
          "output_type": "stream",
          "text": [
            "[[136  17   0   0   0]\n",
            " [  1 211   0   0   0]\n",
            " [  0  24 123   0   1]\n",
            " [  1  23   0 128   0]\n",
            " [  1  32   2   0 165]]\n",
            "\n",
            "\n",
            "              precision    recall  f1-score   support\n",
            "\n",
            "           0       0.98      0.89      0.93       153\n",
            "           1       0.69      1.00      0.81       212\n",
            "           2       0.98      0.83      0.90       148\n",
            "           3       1.00      0.84      0.91       152\n",
            "           4       0.99      0.82      0.90       200\n",
            "\n",
            "    accuracy                           0.88       865\n",
            "   macro avg       0.93      0.88      0.89       865\n",
            "weighted avg       0.92      0.88      0.89       865\n",
            "\n"
          ],
          "name": "stdout"
        }
      ]
    },
    {
      "cell_type": "code",
      "metadata": {
        "id": "NVy-am2hyB1o",
        "colab_type": "code",
        "colab": {
          "base_uri": "https://localhost:8080/",
          "height": 336
        },
        "outputId": "62a8c7c5-8514-4371-9da1-bce51de06fee"
      },
      "source": [
        "#kiểm tra kết quả của SVM với kernel gaussian\n",
        "y_pred_gauss = svm_gauss.predict(X_test)\n",
        "print(confusion_matrix(y_test,y_pred_gauss))\n",
        "print(\"\\n\")\n",
        "print(classification_report(y_test,y_pred_gauss))"
      ],
      "execution_count": 13,
      "outputs": [
        {
          "output_type": "stream",
          "text": [
            "[[119  34   0   0   0]\n",
            " [  0 212   0   0   0]\n",
            " [  0  28 120   0   0]\n",
            " [  0  27   0 125   0]\n",
            " [  0  37   1   0 162]]\n",
            "\n",
            "\n",
            "              precision    recall  f1-score   support\n",
            "\n",
            "           0       1.00      0.78      0.88       153\n",
            "           1       0.63      1.00      0.77       212\n",
            "           2       0.99      0.81      0.89       148\n",
            "           3       1.00      0.82      0.90       152\n",
            "           4       1.00      0.81      0.90       200\n",
            "\n",
            "    accuracy                           0.85       865\n",
            "   macro avg       0.92      0.84      0.87       865\n",
            "weighted avg       0.91      0.85      0.86       865\n",
            "\n"
          ],
          "name": "stdout"
        }
      ]
    },
    {
      "cell_type": "code",
      "metadata": {
        "id": "8VmT7XBiy3pg",
        "colab_type": "code",
        "colab": {
          "base_uri": "https://localhost:8080/",
          "height": 336
        },
        "outputId": "6a04dbf9-da16-43aa-e362-cec9ceb37309"
      },
      "source": [
        "#Kiểm tra kết quả của softmax classifer \n",
        "y_pred_gauss=softmax.predict(X_test)\n",
        "rounded_pred=np.argmax(y_pred_gauss,axis=1)\n",
        "print(confusion_matrix(y_test,rounded_pred))\n",
        "print(\"\\n\")\n",
        "print(classification_report(y_test,rounded_pred))"
      ],
      "execution_count": 30,
      "outputs": [
        {
          "output_type": "stream",
          "text": [
            "[[136  12   2   2   1]\n",
            " [  4 202   1   4   1]\n",
            " [  1   2 139   0   6]\n",
            " [  7   7   2 133   3]\n",
            " [  3   7  15   5 170]]\n",
            "\n",
            "\n",
            "              precision    recall  f1-score   support\n",
            "\n",
            "           0       0.90      0.89      0.89       153\n",
            "           1       0.88      0.95      0.91       212\n",
            "           2       0.87      0.94      0.91       148\n",
            "           3       0.92      0.88      0.90       152\n",
            "           4       0.94      0.85      0.89       200\n",
            "\n",
            "    accuracy                           0.90       865\n",
            "   macro avg       0.90      0.90      0.90       865\n",
            "weighted avg       0.90      0.90      0.90       865\n",
            "\n"
          ],
          "name": "stdout"
        }
      ]
    },
    {
      "cell_type": "code",
      "metadata": {
        "id": "FXqa3DST0h1V",
        "colab_type": "code",
        "colab": {
          "base_uri": "https://localhost:8080/",
          "height": 84
        },
        "outputId": "7d98a80a-488c-4412-e82a-b7adc0c82a67"
      },
      "source": [
        "#Test ảnh\n",
        "def testImage(path):\n",
        "  model1 = VGG16(weights='imagenet', include_top=False)\n",
        "  img = cv2.imread(path)\n",
        "  img = cv2.resize(img,(224,224))\n",
        "  img = img_to_array(img)\n",
        "  img = np.expand_dims(img, 0)\n",
        "  img = imagenet_utils.preprocess_input(img)\n",
        "  imgfeat = model1.predict(img)\n",
        "  imgfeat = imgfeat.reshape((imgfeat.shape[0], 512*7*7))\n",
        "  return imgfeat\n",
        "\n",
        "def nameFlower(pred):\n",
        "  if(pred[0]==0):\n",
        "    return \"Hoa Cúc\"\n",
        "  if(pred[0]==1):\n",
        "    return \"Hoa Bồ Công Anh\"\n",
        "  if(pred[0]==2):\n",
        "    return \"Hoa Hồng\"\n",
        "  if(pred[0]==3):\n",
        "    return \"Hoa Hướng Dương\"\n",
        "  if(pred[0]==4):\n",
        "    return \"Hoa Tuy Líp\"\n",
        "\n",
        "\n",
        "\n",
        "imgfeat=testImage('rose.jpg')\n",
        "\n",
        "\n",
        "preds1 = softmax.predict(imgfeat.reshape(1,-1))\n",
        "print('Giá trị dự đoán sofmax: ',nameFlower(np.argmax(preds1,axis=1)))\n",
        "\n",
        "preds2 = svm_linear.predict(imgfeat.reshape(1,-1))\n",
        "print('Giá trị dự đoán linearSVM: ',nameFlower(preds2))\n",
        "\n",
        "preds3 = svm_gauss.predict(imgfeat.reshape(1,-1))\n",
        "print('Giá trị dự đoán gaussian: ',nameFlower(preds3))\n",
        "\n",
        "preds4 = svm_poly.predict(imgfeat.reshape(1,-1))\n",
        "print('Giá trị dự đoán poly: ',nameFlower(preds4))"
      ],
      "execution_count": 57,
      "outputs": [
        {
          "output_type": "stream",
          "text": [
            "Giá trị dự đoán sofmax:  Hoa Hồng\n",
            "Giá trị dự đoán linearSVM:  Hoa Hồng\n",
            "Giá trị dự đoán gaussian:  Hoa Bồ Công Anh\n",
            "Giá trị dự đoán poly:  Hoa Bồ Công Anh\n"
          ],
          "name": "stdout"
        }
      ]
    }
  ]
}