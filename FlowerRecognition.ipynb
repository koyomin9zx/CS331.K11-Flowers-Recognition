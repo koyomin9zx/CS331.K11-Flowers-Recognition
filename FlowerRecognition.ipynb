{
  "nbformat": 4,
  "nbformat_minor": 0,
  "metadata": {
    "colab": {
      "name": "giuaki.ipynb",
      "provenance": [],
      "collapsed_sections": [],
      "include_colab_link": true
    },
    "kernelspec": {
      "name": "python3",
      "display_name": "Python 3"
    },
    "accelerator": "GPU"
  },
  "cells": [
    {
      "cell_type": "markdown",
      "metadata": {
        "id": "view-in-github",
        "colab_type": "text"
      },
      "source": [
        "<a href=\"https://colab.research.google.com/github/koyomin9zx/CS331.K11-Flowers-Recognition/blob/master/FlowerRecognition.ipynb\" target=\"_parent\"><img src=\"https://colab.research.google.com/assets/colab-badge.svg\" alt=\"Open In Colab\"/></a>"
      ]
    },
    {
      "cell_type": "code",
      "metadata": {
        "id": "hcNk2p0PTFEc",
        "colab_type": "code",
        "colab": {
          "base_uri": "https://localhost:8080/",
          "height": 121
        },
        "outputId": "937582c9-b2d4-4928-b40a-c80d3ad12810"
      },
      "source": [
        "from google.colab import drive\n",
        "drive.mount('/content/drive')"
      ],
      "execution_count": 1,
      "outputs": [
        {
          "output_type": "stream",
          "text": [
            "Go to this URL in a browser: https://accounts.google.com/o/oauth2/auth?client_id=947318989803-6bn6qk8qdgf4n4g3pfee6491hc0brc4i.apps.googleusercontent.com&redirect_uri=urn%3aietf%3awg%3aoauth%3a2.0%3aoob&response_type=code&scope=email%20https%3a%2f%2fwww.googleapis.com%2fauth%2fdocs.test%20https%3a%2f%2fwww.googleapis.com%2fauth%2fdrive%20https%3a%2f%2fwww.googleapis.com%2fauth%2fdrive.photos.readonly%20https%3a%2f%2fwww.googleapis.com%2fauth%2fpeopleapi.readonly\n",
            "\n",
            "Enter your authorization code:\n",
            "··········\n",
            "Mounted at /content/drive\n"
          ],
          "name": "stdout"
        }
      ]
    },
    {
      "cell_type": "code",
      "metadata": {
        "id": "_8D5c-AcTvWq",
        "colab_type": "code",
        "colab": {}
      },
      "source": [
        "!unzip /content/drive/'My Drive'/ML/dataset.zip"
      ],
      "execution_count": 0,
      "outputs": []
    },
    {
      "cell_type": "code",
      "metadata": {
        "id": "C3Bs0iSFUSf9",
        "colab_type": "code",
        "colab": {}
      },
      "source": [
        "!ln -s /content/drive/'My Drive'/ML/backup /content"
      ],
      "execution_count": 0,
      "outputs": []
    },
    {
      "cell_type": "code",
      "metadata": {
        "id": "NuuRM07vUsTj",
        "colab_type": "code",
        "colab": {}
      },
      "source": [
        "# Thêm thư viện\n",
        "from sklearn.linear_model import LogisticRegression\n",
        "from sklearn.model_selection import GridSearchCV\n",
        "from sklearn.metrics import classification_report\n",
        "from imutils import paths\n",
        "from keras.applications import VGG16\n",
        "from keras.applications import imagenet_utils\n",
        "from keras.preprocessing.image import img_to_array\n",
        "from keras.preprocessing.image import load_img\n",
        "from sklearn.preprocessing import LabelEncoder\n",
        "from sklearn.model_selection import train_test_split\n",
        "import numpy as np\n",
        "import random\n",
        "import os\n",
        "import pandas as pd\n",
        "import matplotlib.pyplot as plt\n",
        "from sklearn.svm import SVC\n",
        "from sklearn.externals import joblib\n",
        "import cv2"
      ],
      "execution_count": 0,
      "outputs": []
    },
    {
      "cell_type": "code",
      "metadata": {
        "id": "iPlTeBfEVCT2",
        "colab_type": "code",
        "colab": {}
      },
      "source": [
        "# Lấy các đường dẫn đến ảnh.\n",
        "image_path = list(paths.list_images('dataset/'))\n",
        "\n",
        "# Đổi vị trí ngẫu nhiên các đường dẫn ảnh\n",
        "random.shuffle(image_path)"
      ],
      "execution_count": 0,
      "outputs": []
    },
    {
      "cell_type": "code",
      "metadata": {
        "id": "M5M-2VFpVHaD",
        "colab_type": "code",
        "colab": {}
      },
      "source": [
        "# Đường dẫn ảnh sẽ là dataset/tên_loài_hoa/tên_ảnh ví dụ dataset/Bluebell/image_0241.jpg nên p.split(os.path.sep)[-2] sẽ lấy ra được tên loài hoa\n",
        "labels = [p.split(os.path.sep)[-2] for p in image_path]\n",
        "\n",
        "# Chuyển tên các loài hoa thành số\n",
        "le = LabelEncoder()\n",
        "labels = le.fit_transform(labels)"
      ],
      "execution_count": 0,
      "outputs": []
    },
    {
      "cell_type": "code",
      "metadata": {
        "id": "3iNLYDHjVNWT",
        "colab_type": "code",
        "colab": {}
      },
      "source": [
        "# Load model VGG 16 của ImageNet dataset, include_top=False để bỏ phần Fully connected layer ở cuối.\n",
        "model = VGG16(weights='imagenet', include_top=False)"
      ],
      "execution_count": 0,
      "outputs": []
    },
    {
      "cell_type": "code",
      "metadata": {
        "id": "UIQqI_zdVc_s",
        "colab_type": "code",
        "colab": {}
      },
      "source": [
        "# Load ảnh và resize về đúng kích thước mà VGG 16 cần là (224,224)\n",
        "list_image = []\n",
        "for (j, imagePath) in enumerate(image_path):\n",
        "    image = load_img(imagePath, target_size=(224, 224))\n",
        "    image = img_to_array(image)\n",
        "    \n",
        "    image = np.expand_dims(image, 0)\n",
        "    image = imagenet_utils.preprocess_input(image)\n",
        "    \n",
        "    list_image.append(image)\n",
        "    \n",
        "list_image = np.vstack(list_image)"
      ],
      "execution_count": 0,
      "outputs": []
    },
    {
      "cell_type": "code",
      "metadata": {
        "id": "IBWOa-GfVnr7",
        "colab_type": "code",
        "colab": {}
      },
      "source": [
        "# Dùng pre-trained model để lấy ra các feature của ảnh\n",
        "features = model.predict(list_image)\n",
        "\n",
        "# Giống bước flatten trong CNN, chuyển từ tensor 3 chiều sau ConvNet sang vector 1 chiều\n",
        "features = features.reshape((features.shape[0], 512*7*7))"
      ],
      "execution_count": 0,
      "outputs": []
    },
    {
      "cell_type": "code",
      "metadata": {
        "id": "S90GaFuQVxlm",
        "colab_type": "code",
        "colab": {}
      },
      "source": [
        "# Chia traing set, test set tỉ lệ 80-20\n",
        "X_train, X_test, y_train, y_test = train_test_split(features, labels, test_size=0.2, random_state=42)"
      ],
      "execution_count": 0,
      "outputs": []
    },
    {
      "cell_type": "code",
      "metadata": {
        "id": "IOV1QZzWW6E8",
        "colab_type": "code",
        "colab": {
          "base_uri": "https://localhost:8080/",
          "height": 84
        },
        "outputId": "8f77d5ef-8fbe-438e-c66d-a1ea31fdc6c8"
      },
      "source": [
        "#train với linearSVM\n",
        "svclassifier = SVC(kernel='linear')\n",
        "svclassifier.fit(X_train, y_train)"
      ],
      "execution_count": 22,
      "outputs": [
        {
          "output_type": "execute_result",
          "data": {
            "text/plain": [
              "SVC(C=1.0, cache_size=200, class_weight=None, coef0=0.0,\n",
              "    decision_function_shape='ovr', degree=3, gamma='auto_deprecated',\n",
              "    kernel='linear', max_iter=-1, probability=False, random_state=None,\n",
              "    shrinking=True, tol=0.001, verbose=False)"
            ]
          },
          "metadata": {
            "tags": []
          },
          "execution_count": 22
        }
      ]
    },
    {
      "cell_type": "code",
      "metadata": {
        "id": "eMjNmYjjYWE_",
        "colab_type": "code",
        "colab": {
          "base_uri": "https://localhost:8080/",
          "height": 218
        },
        "outputId": "a6564ed7-ae97-43f9-8e3d-b328d7ab1e14"
      },
      "source": [
        "#kiểm tra kết quả của linearSVM\n",
        "y_pred = svclassifier.predict(X_test)\n",
        "print(classification_report(y_test,y_pred))"
      ],
      "execution_count": 56,
      "outputs": [
        {
          "output_type": "stream",
          "text": [
            "              precision    recall  f1-score   support\n",
            "\n",
            "           0       0.92      0.85      0.88       170\n",
            "           1       0.91      0.96      0.93       216\n",
            "           2       0.86      0.90      0.88       149\n",
            "           3       0.86      0.84      0.85       135\n",
            "           4       0.89      0.88      0.88       195\n",
            "\n",
            "    accuracy                           0.89       865\n",
            "   macro avg       0.89      0.89      0.89       865\n",
            "weighted avg       0.89      0.89      0.89       865\n",
            "\n"
          ],
          "name": "stdout"
        }
      ]
    },
    {
      "cell_type": "code",
      "metadata": {
        "id": "FKqO_TvEaBdY",
        "colab_type": "code",
        "colab": {
          "base_uri": "https://localhost:8080/",
          "height": 138
        },
        "outputId": "7d130b7e-d571-4674-b172-7895e297f65a"
      },
      "source": [
        "#train với Polynomial Kernel\n",
        "svclassifierpoly = SVC(kernel='poly', degree=8)\n",
        "svclassifierpoly.fit(X_train, y_train)"
      ],
      "execution_count": 27,
      "outputs": [
        {
          "output_type": "stream",
          "text": [
            "/usr/local/lib/python3.6/dist-packages/sklearn/svm/base.py:193: FutureWarning: The default value of gamma will change from 'auto' to 'scale' in version 0.22 to account better for unscaled features. Set gamma explicitly to 'auto' or 'scale' to avoid this warning.\n",
            "  \"avoid this warning.\", FutureWarning)\n"
          ],
          "name": "stderr"
        },
        {
          "output_type": "execute_result",
          "data": {
            "text/plain": [
              "SVC(C=1.0, cache_size=200, class_weight=None, coef0=0.0,\n",
              "    decision_function_shape='ovr', degree=8, gamma='auto_deprecated',\n",
              "    kernel='poly', max_iter=-1, probability=False, random_state=None,\n",
              "    shrinking=True, tol=0.001, verbose=False)"
            ]
          },
          "metadata": {
            "tags": []
          },
          "execution_count": 27
        }
      ]
    },
    {
      "cell_type": "code",
      "metadata": {
        "id": "XptAjsj2duyM",
        "colab_type": "code",
        "colab": {
          "base_uri": "https://localhost:8080/",
          "height": 218
        },
        "outputId": "d987eb89-03ed-40c1-cd41-88a4a64a13a1"
      },
      "source": [
        "#kiểm tra kết quả của Polynomial Kernel\n",
        "y_pred_poly = svclassifierpoly.predict(X_test)\n",
        "print(classification_report(y_test,y_pred_poly))"
      ],
      "execution_count": 57,
      "outputs": [
        {
          "output_type": "stream",
          "text": [
            "              precision    recall  f1-score   support\n",
            "\n",
            "           0       0.84      0.46      0.60       170\n",
            "           1       0.29      0.98      0.45       216\n",
            "           2       0.60      0.04      0.08       149\n",
            "           3       1.00      0.08      0.15       135\n",
            "           4       0.85      0.12      0.21       195\n",
            "\n",
            "    accuracy                           0.38       865\n",
            "   macro avg       0.72      0.34      0.30       865\n",
            "weighted avg       0.69      0.38      0.31       865\n",
            "\n"
          ],
          "name": "stdout"
        }
      ]
    },
    {
      "cell_type": "code",
      "metadata": {
        "id": "_biOwjVZfWrt",
        "colab_type": "code",
        "colab": {
          "base_uri": "https://localhost:8080/",
          "height": 138
        },
        "outputId": "b6bb2603-9ae9-4e06-abe1-431520fccdec"
      },
      "source": [
        "#Train với Gaussian Kernel\n",
        "svclassifier_gaussian = SVC(kernel='rbf')\n",
        "svclassifier_gaussian.fit(X_train, y_train)"
      ],
      "execution_count": 29,
      "outputs": [
        {
          "output_type": "stream",
          "text": [
            "/usr/local/lib/python3.6/dist-packages/sklearn/svm/base.py:193: FutureWarning: The default value of gamma will change from 'auto' to 'scale' in version 0.22 to account better for unscaled features. Set gamma explicitly to 'auto' or 'scale' to avoid this warning.\n",
            "  \"avoid this warning.\", FutureWarning)\n"
          ],
          "name": "stderr"
        },
        {
          "output_type": "execute_result",
          "data": {
            "text/plain": [
              "SVC(C=1.0, cache_size=200, class_weight=None, coef0=0.0,\n",
              "    decision_function_shape='ovr', degree=3, gamma='auto_deprecated',\n",
              "    kernel='rbf', max_iter=-1, probability=False, random_state=None,\n",
              "    shrinking=True, tol=0.001, verbose=False)"
            ]
          },
          "metadata": {
            "tags": []
          },
          "execution_count": 29
        }
      ]
    },
    {
      "cell_type": "code",
      "metadata": {
        "id": "zB9PmOWmkD2e",
        "colab_type": "code",
        "colab": {
          "base_uri": "https://localhost:8080/",
          "height": 272
        },
        "outputId": "cb480c49-893e-4bc2-f9b0-8192503d2afc"
      },
      "source": [
        "#kiểm tra kết quả của Gaussian Kernel\n",
        "y_pred_gauss = svclassifier_gaussian.predict(X_test)\n",
        "print(classification_report(y_test,y_pred_gauss))"
      ],
      "execution_count": 30,
      "outputs": [
        {
          "output_type": "stream",
          "text": [
            "              precision    recall  f1-score   support\n",
            "\n",
            "           0       0.00      0.00      0.00       170\n",
            "           1       0.25      1.00      0.40       216\n",
            "           2       0.33      0.01      0.01       149\n",
            "           3       0.00      0.00      0.00       135\n",
            "           4       0.00      0.00      0.00       195\n",
            "\n",
            "    accuracy                           0.25       865\n",
            "   macro avg       0.12      0.20      0.08       865\n",
            "weighted avg       0.12      0.25      0.10       865\n",
            "\n"
          ],
          "name": "stdout"
        },
        {
          "output_type": "stream",
          "text": [
            "/usr/local/lib/python3.6/dist-packages/sklearn/metrics/classification.py:1437: UndefinedMetricWarning: Precision and F-score are ill-defined and being set to 0.0 in labels with no predicted samples.\n",
            "  'precision', 'predicted', average, warn_for)\n"
          ],
          "name": "stderr"
        }
      ]
    },
    {
      "cell_type": "code",
      "metadata": {
        "id": "-_ekxo7MsW4h",
        "colab_type": "code",
        "colab": {
          "base_uri": "https://localhost:8080/",
          "height": 457
        },
        "outputId": "088e35ec-6bd0-46ae-e364-062a75e1116a"
      },
      "source": [
        "#Train với softmax\n",
        "# Grid search để tìm các parameter tốt nhất cho model. C = 1/lamda, hệ số trong regularisation. Solver là kiểu optimize\n",
        "# https://scikit-learn.org/stable/modules/generated/sklearn.linear_model.LogisticRegression.html\n",
        "params = {'C' : [0.1, 1.0, 10.0, 100.0]}\n",
        "model = GridSearchCV(LogisticRegression(solver='lbfgs', multi_class='multinomial'), params)\n",
        "#model = GridSearchCV(LogisticRegression(), params)\n",
        "model.fit(X_train, y_train)\n",
        "print('Best parameter for the model {}'.format(model.best_params_))"
      ],
      "execution_count": 59,
      "outputs": [
        {
          "output_type": "stream",
          "text": [
            "/usr/local/lib/python3.6/dist-packages/sklearn/model_selection/_split.py:1978: FutureWarning: The default value of cv will change from 3 to 5 in version 0.22. Specify it explicitly to silence this warning.\n",
            "  warnings.warn(CV_WARNING, FutureWarning)\n",
            "/usr/local/lib/python3.6/dist-packages/sklearn/linear_model/logistic.py:947: ConvergenceWarning: lbfgs failed to converge. Increase the number of iterations.\n",
            "  \"of iterations.\", ConvergenceWarning)\n",
            "/usr/local/lib/python3.6/dist-packages/sklearn/linear_model/logistic.py:947: ConvergenceWarning: lbfgs failed to converge. Increase the number of iterations.\n",
            "  \"of iterations.\", ConvergenceWarning)\n",
            "/usr/local/lib/python3.6/dist-packages/sklearn/linear_model/logistic.py:947: ConvergenceWarning: lbfgs failed to converge. Increase the number of iterations.\n",
            "  \"of iterations.\", ConvergenceWarning)\n",
            "/usr/local/lib/python3.6/dist-packages/sklearn/linear_model/logistic.py:947: ConvergenceWarning: lbfgs failed to converge. Increase the number of iterations.\n",
            "  \"of iterations.\", ConvergenceWarning)\n",
            "/usr/local/lib/python3.6/dist-packages/sklearn/linear_model/logistic.py:947: ConvergenceWarning: lbfgs failed to converge. Increase the number of iterations.\n",
            "  \"of iterations.\", ConvergenceWarning)\n",
            "/usr/local/lib/python3.6/dist-packages/sklearn/linear_model/logistic.py:947: ConvergenceWarning: lbfgs failed to converge. Increase the number of iterations.\n",
            "  \"of iterations.\", ConvergenceWarning)\n",
            "/usr/local/lib/python3.6/dist-packages/sklearn/linear_model/logistic.py:947: ConvergenceWarning: lbfgs failed to converge. Increase the number of iterations.\n",
            "  \"of iterations.\", ConvergenceWarning)\n",
            "/usr/local/lib/python3.6/dist-packages/sklearn/linear_model/logistic.py:947: ConvergenceWarning: lbfgs failed to converge. Increase the number of iterations.\n",
            "  \"of iterations.\", ConvergenceWarning)\n",
            "/usr/local/lib/python3.6/dist-packages/sklearn/linear_model/logistic.py:947: ConvergenceWarning: lbfgs failed to converge. Increase the number of iterations.\n",
            "  \"of iterations.\", ConvergenceWarning)\n",
            "/usr/local/lib/python3.6/dist-packages/sklearn/linear_model/logistic.py:947: ConvergenceWarning: lbfgs failed to converge. Increase the number of iterations.\n",
            "  \"of iterations.\", ConvergenceWarning)\n"
          ],
          "name": "stderr"
        },
        {
          "output_type": "stream",
          "text": [
            "Best parameter for the model {'C': 0.1}\n"
          ],
          "name": "stdout"
        },
        {
          "output_type": "stream",
          "text": [
            "/usr/local/lib/python3.6/dist-packages/sklearn/linear_model/logistic.py:947: ConvergenceWarning: lbfgs failed to converge. Increase the number of iterations.\n",
            "  \"of iterations.\", ConvergenceWarning)\n"
          ],
          "name": "stderr"
        }
      ]
    },
    {
      "cell_type": "code",
      "metadata": {
        "id": "RWpKl5a20O87",
        "colab_type": "code",
        "colab": {
          "base_uri": "https://localhost:8080/",
          "height": 218
        },
        "outputId": "a2829fff-f601-49dc-c9d8-d636ee151619"
      },
      "source": [
        "# Đánh giá Sofmax\n",
        "preds = model.predict(X_test)\n",
        "print(classification_report(y_test, preds))"
      ],
      "execution_count": 61,
      "outputs": [
        {
          "output_type": "stream",
          "text": [
            "              precision    recall  f1-score   support\n",
            "\n",
            "           0       0.92      0.84      0.88       170\n",
            "           1       0.93      0.96      0.94       216\n",
            "           2       0.85      0.89      0.87       149\n",
            "           3       0.87      0.86      0.86       135\n",
            "           4       0.87      0.88      0.88       195\n",
            "\n",
            "    accuracy                           0.89       865\n",
            "   macro avg       0.89      0.89      0.89       865\n",
            "weighted avg       0.89      0.89      0.89       865\n",
            "\n"
          ],
          "name": "stdout"
        }
      ]
    },
    {
      "cell_type": "code",
      "metadata": {
        "id": "hJiNrYrY0mLf",
        "colab_type": "code",
        "colab": {
          "base_uri": "https://localhost:8080/",
          "height": 34
        },
        "outputId": "80b6a92e-ac47-4eb3-976d-21ba5f2b9188"
      },
      "source": [
        "#lưu các Model\n",
        "joblib.dump(svclassifier_gaussian, 'backup/svclassifier_gaussian.pkl')\n",
        "joblib.dump(svclassifier, 'backup/svclassifier.pkl')\n",
        "joblib.dump(svclassifierpoly, 'backup/svclassifier_poly.pkl')\n",
        "joblib.dump(model,'backup/softmax.pkl')"
      ],
      "execution_count": 62,
      "outputs": [
        {
          "output_type": "execute_result",
          "data": {
            "text/plain": [
              "['backup/softmax.pkl']"
            ]
          },
          "metadata": {
            "tags": []
          },
          "execution_count": 62
        }
      ]
    },
    {
      "cell_type": "code",
      "metadata": {
        "id": "CsnCQ-0LF5OE",
        "colab_type": "code",
        "colab": {
          "base_uri": "https://localhost:8080/",
          "height": 84
        },
        "outputId": "7b725fbf-2868-4860-b11a-9b9f7a93763a"
      },
      "source": [
        "#Test ảnh\n",
        "def testImage(path):\n",
        "  model1 = VGG16(weights='imagenet', include_top=False)\n",
        "  img = cv2.imread(path)\n",
        "  img = cv2.resize(img,(224,224))\n",
        "  img = img_to_array(img)\n",
        "  img = np.expand_dims(img, 0)\n",
        "  img = imagenet_utils.preprocess_input(img)\n",
        "  imgfeat = model1.predict(img)\n",
        "  imgfeat = imgfeat.reshape((imgfeat.shape[0], 512*7*7))\n",
        "  return imgfeat\n",
        "\n",
        "def nameFlower(pred):\n",
        "  if(pred[0]==0):\n",
        "    return \"Hoa Cúc\"\n",
        "  if(pred[0]==1):\n",
        "    return \"Hoa Bồ Công Anh\"\n",
        "  if(pred[0]==2):\n",
        "    return \"Hoa Hồng\"\n",
        "  if(pred[0]==3):\n",
        "    return \"Hoa Hướng Dương\"\n",
        "  if(pred[0]==4):\n",
        "    return \"Hoa Tuy Líp\"\n",
        "\n",
        "\n",
        "\n",
        "imgfeat=testImage('tulip.jpg')\n",
        "\n",
        "\n",
        "preds = model.predict(imgfeat.reshape(1,-1))\n",
        "print('Giá trị dự đoán sofmax: ',nameFlower(preds))\n",
        "\n",
        "preds = svclassifier.predict(imgfeat.reshape(1,-1))\n",
        "print('Giá trị dự đoán linearSVM: ',nameFlower(preds))\n",
        "\n",
        "preds = svclassifier_gaussian.predict(imgfeat.reshape(1,-1))\n",
        "print('Giá trị dự đoán gaussian: ',nameFlower(preds))\n",
        "\n",
        "preds = svclassifierpoly.predict(imgfeat.reshape(1,-1))\n",
        "print('Giá trị dự đoán poly: ',nameFlower(preds))\n",
        "\n",
        "\n"
      ],
      "execution_count": 168,
      "outputs": [
        {
          "output_type": "stream",
          "text": [
            "Giá trị dự đoán sofmax:  Hoa Tuy Líp\n",
            "Giá trị dự đoán linearSVM:  Hoa Tuy Líp\n",
            "Giá trị dự đoán gaussian:  Hoa Bồ Công Anh\n",
            "Giá trị dự đoán poly:  Hoa Tuy Líp\n"
          ],
          "name": "stdout"
        }
      ]
    }
  ]
}